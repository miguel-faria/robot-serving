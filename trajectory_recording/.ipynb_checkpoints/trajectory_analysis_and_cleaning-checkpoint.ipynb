{
 "cells": [
  {
   "cell_type": "code",
   "execution_count": 5,
   "metadata": {
    "collapsed": false
   },
   "outputs": [],
   "source": [
    "%matplotlib inline\n",
    "import matplotlib.pyplot as plt\n",
    "from mpl_toolkits.mplot3d import Axes3D\n",
    "import numpy as np\n",
    "import scipy.interpolate as sinterpolate\n",
    "import scipy.io as sio"
   ]
  },
  {
   "cell_type": "markdown",
   "metadata": {},
   "source": [
    "# Load trajectories"
   ]
  },
  {
   "cell_type": "code",
   "execution_count": 6,
   "metadata": {
    "collapsed": false
   },
   "outputs": [
    {
     "name": "stdout",
     "output_type": "stream",
     "text": [
      "raw_trajectories/raw_predict_traj1.mat\n",
      "raw_trajectories/raw_legiblet_raj1.mat\n",
      "raw_trajectories/raw_predict_traj2.mat\n",
      "raw_trajectories/raw_legiblet_raj2.mat\n",
      "raw_trajectories/raw_predict_traj3.mat\n",
      "raw_trajectories/raw_legiblet_raj3.mat\n",
      "raw_trajectories/raw_predict_traj4.mat\n",
      "raw_trajectories/raw_legiblet_raj4.mat\n",
      "raw_trajectories/raw_predict_traj5.mat\n",
      "raw_trajectories/raw_legiblet_raj5.mat\n",
      "raw_trajectories/raw_predict_traj6.mat\n",
      "raw_trajectories/raw_legiblet_raj6.mat\n",
      "raw_trajectories/raw_predict_traj7.mat\n",
      "raw_trajectories/raw_legiblet_raj7.mat\n",
      "raw_trajectories/raw_predict_traj8.mat\n",
      "raw_trajectories/raw_legiblet_raj8.mat\n",
      "raw_trajectories/raw_predict_traj9.mat\n",
      "raw_trajectories/raw_legiblet_raj9.mat\n",
      "raw_trajectories/raw_predict_traj10.mat\n",
      "raw_trajectories/raw_legiblet_raj10.mat\n",
      "raw_trajectories/raw_predict_traj11.mat\n",
      "raw_trajectories/raw_legiblet_raj11.mat\n",
      "raw_trajectories/raw_predict_traj12.mat\n",
      "raw_trajectories/raw_legiblet_raj12.mat\n",
      "raw_trajectories/raw_predict_traj13.mat\n",
      "raw_trajectories/raw_legiblet_raj13.mat\n",
      "raw_trajectories/raw_predict_traj14.mat\n",
      "raw_trajectories/raw_legiblet_raj14.mat\n",
      "raw_trajectories/raw_predict_traj15.mat\n",
      "raw_trajectories/raw_legiblet_raj15.mat\n",
      "raw_trajectories/raw_predict_traj16.mat\n",
      "raw_trajectories/raw_legiblet_raj16.mat\n",
      "raw_trajectories/raw_predict_traj17.mat\n",
      "raw_trajectories/raw_legiblet_raj17.mat\n",
      "raw_trajectories/raw_predict_traj18.mat\n",
      "raw_trajectories/raw_legiblet_raj18.mat\n",
      "raw_trajectories/raw_predict_traj19.mat\n",
      "raw_trajectories/raw_legiblet_raj19.mat\n",
      "raw_trajectories/raw_predict_traj20.mat\n",
      "raw_trajectories/raw_legiblet_raj20.mat\n"
     ]
    }
   ],
   "source": [
    "N = 20\n",
    "predict_trajs = []\n",
    "predict_full_trajs = []\n",
    "legible_trajs = []\n",
    "legible_full_trajs = []\n",
    "for i in range(1, N + 1):\n",
    "    print ('raw_trajectories/raw_predict_traj%d.mat' % i)\n",
    "    predict_trajs.append(sio.loadmat('raw_trajectories/raw_predict_traj%d.mat' % i)['traj'])\n",
    "    predict_full_trajs.append(sio.loadmat('raw_trajectories/raw_predict_traj%d.mat' % i))\n",
    "    print ('raw_trajectories/raw_legiblet_raj%d.mat' % i)\n",
    "    legible_trajs.append(sio.loadmat('raw_trajectories/raw_legible_traj%d.mat' % i)['traj'])\n",
    "    legible_full_trajs.append(sio.loadmat('raw_trajectories/raw_legible_traj%d.mat' % i))"
   ]
  },
  {
   "cell_type": "markdown",
   "metadata": {},
   "source": [
    "# Analyzing data"
   ]
  },
  {
   "cell_type": "code",
   "execution_count": 7,
   "metadata": {
    "collapsed": false
   },
   "outputs": [
    {
     "ename": "NameError",
     "evalue": "name 'interp_fn' is not defined",
     "output_type": "error",
     "traceback": [
      "\u001b[0;31m---------------------------------------------------------------------------\u001b[0m",
      "\u001b[0;31mNameError\u001b[0m                                 Traceback (most recent call last)",
      "\u001b[0;32m<ipython-input-7-1bf9ce292dfa>\u001b[0m in \u001b[0;36m<module>\u001b[0;34m()\u001b[0m\n\u001b[1;32m     21\u001b[0m \u001b[0;34m\u001b[0m\u001b[0m\n\u001b[1;32m     22\u001b[0m     \u001b[0mlegible_interp_fn\u001b[0m \u001b[0;34m=\u001b[0m \u001b[0msinterpolate\u001b[0m\u001b[0;34m.\u001b[0m\u001b[0minterp1d\u001b[0m\u001b[0;34m(\u001b[0m\u001b[0mlegible_X\u001b[0m\u001b[0;34m,\u001b[0m \u001b[0mlegible_traj\u001b[0m\u001b[0;34m[\u001b[0m\u001b[0;34m:\u001b[0m\u001b[0;34m,\u001b[0m \u001b[0;36m1\u001b[0m\u001b[0;34m:\u001b[0m\u001b[0;34m]\u001b[0m\u001b[0;34m,\u001b[0m \u001b[0maxis\u001b[0m\u001b[0;34m=\u001b[0m\u001b[0;36m0\u001b[0m\u001b[0;34m)\u001b[0m\u001b[0;34m\u001b[0m\u001b[0m\n\u001b[0;32m---> 23\u001b[0;31m     \u001b[0mlegible_clean_traj\u001b[0m \u001b[0;34m=\u001b[0m \u001b[0minterp_fn\u001b[0m\u001b[0;34m(\u001b[0m\u001b[0mX_new\u001b[0m\u001b[0;34m)\u001b[0m\u001b[0;34m\u001b[0m\u001b[0m\n\u001b[0m\u001b[1;32m     24\u001b[0m     \u001b[0mlegible_clean_traj\u001b[0m \u001b[0;34m=\u001b[0m \u001b[0mnp\u001b[0m\u001b[0;34m.\u001b[0m\u001b[0mhstack\u001b[0m\u001b[0;34m(\u001b[0m\u001b[0;34m(\u001b[0m\u001b[0mX_new\u001b[0m\u001b[0;34m[\u001b[0m\u001b[0;34m:\u001b[0m\u001b[0;34m,\u001b[0m \u001b[0mnp\u001b[0m\u001b[0;34m.\u001b[0m\u001b[0mnewaxis\u001b[0m\u001b[0;34m]\u001b[0m\u001b[0;34m,\u001b[0m \u001b[0mlegible_clean_traj\u001b[0m\u001b[0;34m)\u001b[0m\u001b[0;34m)\u001b[0m\u001b[0;34m\u001b[0m\u001b[0m\n\u001b[1;32m     25\u001b[0m \u001b[0;34m\u001b[0m\u001b[0m\n",
      "\u001b[0;31mNameError\u001b[0m: name 'interp_fn' is not defined"
     ]
    }
   ],
   "source": [
    "predict_clean_trajs = {}\n",
    "legible_clean_trajs = {}\n",
    "X_new = np.linspace(0, 1, 1 / 0.001)\n",
    "for i in range(N):\n",
    "    predict_traj = predict_full_trajs[i]['traj']\n",
    "    legible_traj = legible_full_trajs[i]['traj']\n",
    "    \n",
    "    # time starts at 0\n",
    "    predict_traj[:, 0] -= predict_traj[0, 0]\n",
    "    legible_traj[:, 0] -= legible_traj[0, 0]\n",
    "    \n",
    "    # reformulate time in order for all the trajectories to have the\n",
    "    # exact same number of samples\n",
    "    predict_X = np.linspace(0, 1, predict_traj.shape[0])\n",
    "    legible_X = np.linspace(0, 1, legible_traj.shape[0])\n",
    "    \n",
    "    # interpolate\n",
    "    predict_interp_fn = sinterpolate.interp1d(predict_X, predict_traj[:, 1:], axis=0)\n",
    "    predict_clean_traj = predict_interp_fn(X_new)\n",
    "    predict_clean_traj = np.hstack((X_new[:, np.newaxis], predict_clean_traj))\n",
    "    \n",
    "    legible_interp_fn = sinterpolate.interp1d(legible_X, legible_traj[:, 1:], axis=0)\n",
    "    legible_clean_traj = legible_interp_fn(X_new)\n",
    "    legible_clean_traj = np.hstack((X_new[:, np.newaxis], legible_clean_traj))\n",
    "    \n",
    "    predict_clean_trajs[i + 1] = predict_clean_traj\n",
    "    legible_clean_trajs[i + 1] = legible_clean_traj\n",
    "    \n",
    "    # plot for visualization purposes\n",
    "    predict_rep = predict_traj[:, 8:11]\n",
    "    predict_crep = predict_clean_traj[:, 8:11]\n",
    "    \n",
    "    legible_rep = legible_traj[:, 8:11]\n",
    "    legible_crep = legible_clean_traj[:, 8:11]\n",
    "    \n",
    "    fig, axs = plt.subplots(nrows=1, ncols=2, figsize=(10, 5))\n",
    "    axs[0].set_title('predictable %d' % (i + 1))\n",
    "    axs[0].plot(predict_X, predict_rep)\n",
    "    axs[0].plot(X_new, predict_crep, '--')\n",
    "    axs[1].set_title('legible %d' % (i + 1))\n",
    "    axs[1].plot(legible_X, legible_rep)\n",
    "    axs[1].plot(X_new, legible_crep, '--')\n",
    "    "
   ]
  },
  {
   "cell_type": "code",
   "execution_count": 5,
   "metadata": {
    "collapsed": false
   },
   "outputs": [
    {
     "data": {
      "text/plain": [
       "(1000, 29)"
      ]
     },
     "execution_count": 5,
     "metadata": {},
     "output_type": "execute_result"
    }
   ],
   "source": [
    "predict_clean_trajs[23].shape"
   ]
  },
  {
   "cell_type": "code",
   "execution_count": 5,
   "metadata": {
    "collapsed": false
   },
   "outputs": [
    {
     "data": {
      "text/plain": [
       "(1000, 29)"
      ]
     },
     "execution_count": 5,
     "metadata": {},
     "output_type": "execute_result"
    }
   ],
   "source": [
    "legible_clean_trajs[23].shape"
   ]
  },
  {
   "cell_type": "markdown",
   "metadata": {},
   "source": [
    "# Save trajectories"
   ]
  },
  {
   "cell_type": "code",
   "execution_count": 27,
   "metadata": {
    "collapsed": false
   },
   "outputs": [],
   "source": [
    "for i in range(N):\n",
    "    # retrieve data\n",
    "    predict_target = predict_full_trajs[i]['target']\n",
    "    predict_traj = predict_clean_trajs[i + 1]\n",
    "    legible_target = legible_full_trajs[i]['target']\n",
    "    legible_traj = legible_clean_trajs[i + 1]\n",
    "\n",
    "    # save again\n",
    "    sio.savemat('clean_trajectories/predict_traj%d.mat' % (i + 1), {'target': predict_target, 'traj': predict_traj})\n",
    "    sio.savemat('clean_trajectories/legible_traj%d.mat' % (i + 1), {'target': legible_target, 'traj': legible_traj})"
   ]
  },
  {
   "cell_type": "code",
   "execution_count": 10,
   "metadata": {
    "collapsed": false
   },
   "outputs": [
    {
     "name": "stdout",
     "output_type": "stream",
     "text": [
      "Once deleted, variables cannot be recovered. Proceed (y/[n])? y\n"
     ]
    }
   ],
   "source": [
    "%reset"
   ]
  },
  {
   "cell_type": "code",
   "execution_count": 11,
   "metadata": {
    "collapsed": false
   },
   "outputs": [
    {
     "data": {
      "text/plain": [
       "'/home/miguel/catkin_ws/src/robot_serving/trajectory_recording'"
      ]
     },
     "execution_count": 11,
     "metadata": {},
     "output_type": "execute_result"
    }
   ],
   "source": [
    "pwd"
   ]
  },
  {
   "cell_type": "code",
   "execution_count": 29,
   "metadata": {
    "collapsed": false
   },
   "outputs": [
    {
     "data": {
      "text/plain": [
       "[<matplotlib.lines.Line2D at 0x7f51950bed30>,\n",
       " <matplotlib.lines.Line2D at 0x7f5194f7cb70>,\n",
       " <matplotlib.lines.Line2D at 0x7f5194f7cdd8>]"
      ]
     },
     "execution_count": 29,
     "metadata": {},
     "output_type": "execute_result"
    },
    {
     "data": {
      "image/png": "[encoded data removed]",
      "text/plain": [
       "<matplotlib.figure.Figure at 0x7f51950c5048>"
      ]
     },
     "metadata": {},
     "output_type": "display_data"
    }
   ],
   "source": [
    "plt.plot(sio.loadmat('clean_trajectories/predict_traj5.mat')['traj'][:, 8:11])"
   ]
  },
  {
   "cell_type": "code",
   "execution_count": 30,
   "metadata": {
    "collapsed": false
   },
   "outputs": [
    {
     "data": {
      "text/plain": [
       "[<matplotlib.lines.Line2D at 0x7f5194f66668>,\n",
       " <matplotlib.lines.Line2D at 0x7f5194f66828>,\n",
       " <matplotlib.lines.Line2D at 0x7f5194f66a90>]"
      ]
     },
     "execution_count": 30,
     "metadata": {},
     "output_type": "execute_result"
    },
    {
     "data": {
      "image/png": "[encoded data removed]",
      "text/plain": [
       "<matplotlib.figure.Figure at 0x7f5194f8f5c0>"
      ]
     },
     "metadata": {},
     "output_type": "display_data"
    }
   ],
   "source": [
    "plt.plot(sio.loadmat('clean_trajectories/legible_traj5.mat')['traj'][:, 8:11])"
   ]
  },
  {
   "cell_type": "code",
   "execution_count": null,
   "metadata": {
    "collapsed": true
   },
   "outputs": [],
   "source": []
  }
 ],
 "metadata": {
  "kernelspec": {
   "display_name": "Python 3",
   "language": "python",
   "name": "python3"
  },
  "language_info": {
   "codemirror_mode": {
    "name": "ipython",
    "version": 3
   },
   "file_extension": ".py",
   "mimetype": "text/x-python",
   "name": "python",
   "nbconvert_exporter": "python",
   "pygments_lexer": "ipython3",
   "version": "3.4.3"
  }
 },
 "nbformat": 4,
 "nbformat_minor": 0
}
